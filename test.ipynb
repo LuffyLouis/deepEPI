{
 "cells": [
  {
   "cell_type": "code",
   "execution_count": null,
   "id": "4b49c5f1-e5bf-4d79-a9ca-ea3959837d1a",
   "metadata": {},
   "outputs": [],
   "source": [
    "\n",
    "import os"
   ]
  },
  {
   "cell_type": "code",
   "execution_count": null,
   "id": "82b3c2c1-7a98-4e00-aa61-c53c2a7664b8",
   "metadata": {
    "tags": []
   },
   "outputs": [],
   "source": [
    "os.listdir(\"./\")"
   ]
  },
  {
   "cell_type": "code",
   "execution_count": null,
   "id": "9f3538df-c094-42b4-a4c7-cad5826cd262",
   "metadata": {},
   "outputs": [],
   "source": [
    "from sklearn.preprocessing import OneHotEncoder\n"
   ]
  },
  {
   "cell_type": "code",
   "execution_count": null,
   "id": "d9227e2d-210a-4787-838d-8b05c50c99cd",
   "metadata": {
    "tags": []
   },
   "outputs": [],
   "source": [
    "enc = OneHotEncoder()\n",
    "enc.fit([[0, 0, 3],\n",
    "         [1, 1, 0],\n",
    "         [0, 2, 1],\n",
    "         [1, 0, 2]])"
   ]
  },
  {
   "cell_type": "code",
   "execution_count": null,
   "id": "6bc0c92e-a67c-4d5f-b45d-314a79554a43",
   "metadata": {
    "tags": []
   },
   "outputs": [],
   "source": [
    "ans = enc.transform([[0, 1, 3]]).toarray() \n"
   ]
  },
  {
   "cell_type": "code",
   "execution_count": null,
   "id": "dfd8da75-5110-409b-9076-6361d582aee1",
   "metadata": {
    "tags": []
   },
   "outputs": [],
   "source": [
    "enc.fit([[\"A\"],[\"C\"],[\"T\"],[\"G\"]])"
   ]
  },
  {
   "cell_type": "code",
   "execution_count": null,
   "id": "80737264-78f3-4f95-b71b-8f63823cb5b0",
   "metadata": {
    "tags": []
   },
   "outputs": [],
   "source": [
    "enc.transform([[\"A\"],[\"G\"],[\"T\"],[\"T\"],[\"C\"]]).toarray()"
   ]
  },
  {
   "cell_type": "code",
   "execution_count": null,
   "id": "d0ae9f88-7e23-4b0a-8434-bcdbce206ed1",
   "metadata": {
    "tags": []
   },
   "outputs": [],
   "source": [
    "a=enc.transform([[\"A\"],[\"G\"],[\"T\"],[\"T\"],[\"C\"]])"
   ]
  },
  {
   "cell_type": "code",
   "execution_count": null,
   "id": "ecca9586-267a-4ca0-8b97-3c9565eac1ee",
   "metadata": {
    "tags": []
   },
   "outputs": [],
   "source": [
    "a.toarray()"
   ]
  },
  {
   "cell_type": "code",
   "execution_count": null,
   "id": "1d0e49b7-05be-4f02-ac37-9e0797240728",
   "metadata": {
    "tags": []
   },
   "outputs": [],
   "source": [
    "import numpy as np"
   ]
  },
  {
   "cell_type": "code",
   "execution_count": null,
   "id": "354d2823-ee73-4360-b86f-a5fc4dd881d9",
   "metadata": {
    "tags": []
   },
   "outputs": [],
   "source": [
    "a=\"ACTGATGCTAGTGTAGCA\"\n",
    "b=np.array(list(a)).reshape(-1,1)\n",
    "enc.transform(b).toarray()"
   ]
  },
  {
   "cell_type": "code",
   "execution_count": null,
   "id": "583efa2b-1c1d-41b6-b0b8-161adecfeaa3",
   "metadata": {
    "tags": []
   },
   "outputs": [],
   "source": [
    "import numpy as np\n",
    "from scipy.sparse import csr_matrix\n",
    "\n",
    "# Dense matrix (normal 2D array)\n",
    "dense_matrix = np.array([[1, 0, 0],\n",
    "                         [0, 2, 0],\n",
    "                         [0, 0, 3],\n",
    "                         [0, 0, 1],\n",
    "                        ])\n",
    "\n",
    "# Convert dense matrix to sparse matrix (CSR format)\n",
    "sparse_matrix = csr_matrix(dense_matrix)\n",
    "\n",
    "print(\"Dense Matrix:\")\n",
    "print(dense_matrix)\n",
    "\n",
    "print(\"\\nSparse Matrix:\")\n",
    "print(sparse_matrix)"
   ]
  },
  {
   "cell_type": "code",
   "execution_count": null,
   "id": "dfd468de-5cf4-4f36-bf90-e91612f3eb62",
   "metadata": {
    "tags": []
   },
   "outputs": [],
   "source": [
    "np.array(list(\"ACTG\")).reshape(-1,1)"
   ]
  },
  {
   "cell_type": "code",
   "execution_count": null,
   "id": "2517f335-2b0b-4742-b14c-79675d799e47",
   "metadata": {
    "tags": []
   },
   "outputs": [],
   "source": [
    "import pyfastx"
   ]
  },
  {
   "cell_type": "code",
   "execution_count": null,
   "id": "69ff6fc7-c4a5-433e-aeea-c12fa84b6657",
   "metadata": {
    "tags": []
   },
   "outputs": [],
   "source": [
    "fa = pyfastx.Fasta(\"./test.fa\",uppercase=True)"
   ]
  },
  {
   "cell_type": "code",
   "execution_count": null,
   "id": "57d1d776-e6d7-4f0d-b27c-c390d3b14f2c",
   "metadata": {
    "tags": []
   },
   "outputs": [],
   "source": [
    "fa[\"chr1\"].name"
   ]
  },
  {
   "cell_type": "code",
   "execution_count": null,
   "id": "8cd2ce8f-935e-4811-b749-1834c7a5fdc6",
   "metadata": {
    "tags": []
   },
   "outputs": [],
   "source": [
    "a=fa[\"chr1\"]"
   ]
  },
  {
   "cell_type": "code",
   "execution_count": null,
   "id": "87b0065a-ff07-414a-afab-9acdfea05ea4",
   "metadata": {
    "tags": []
   },
   "outputs": [],
   "source": [
    "b=fa[\"chr1\"]"
   ]
  },
  {
   "cell_type": "code",
   "execution_count": null,
   "id": "dad6a56d-5cc6-4277-83cb-4cbc898533c0",
   "metadata": {
    "tags": []
   },
   "outputs": [],
   "source": [
    "a.seq"
   ]
  },
  {
   "cell_type": "code",
   "execution_count": null,
   "id": "1af0dbbc-0531-44ab-9e60-429873aa1cb9",
   "metadata": {
    "tags": []
   },
   "outputs": [],
   "source": [
    "b.seq"
   ]
  },
  {
   "cell_type": "code",
   "execution_count": null,
   "id": "8846e6b7-d1ef-448c-969b-0ab6c0b7bcbd",
   "metadata": {
    "tags": []
   },
   "outputs": [],
   "source": [
    "import h5py\n",
    "# with h5py.File(\"./output/final_interactions.h5\",\"w\") as f:\n",
    "#     print(\"raw\" in f)"
   ]
  },
  {
   "cell_type": "code",
   "execution_count": null,
   "id": "1c3cb909-b549-4118-b25b-590f025cad00",
   "metadata": {
    "tags": []
   },
   "outputs": [],
   "source": [
    "with h5py.File(\"./output/temp_extract/temp_extract_15\",\"r\") as f:\n",
    "    print(f[\"raw_label\"].shape)\n",
    "    # print(np.array(f[\"raw_label\"]))\n",
    "    print(f.get(\"raw\").shape)\n",
    "    print(np.array(f.get(\"raw\"))[2].sum(axis=1))"
   ]
  },
  {
   "cell_type": "code",
   "execution_count": null,
   "id": "5a4a16b3-3c87-4bc8-baa0-ecbcbd39f571",
   "metadata": {
    "tags": []
   },
   "outputs": [],
   "source": [
    "with h5py.File(\"./output/prep_datasets_dna2vec_4kb_2kb_train.h5\",\"r\") as f:\n",
    "    print(f.keys())\n",
    "    print(f[\"X\"].shape)\n",
    "    # # print(np.array(f[\"raw_label\"]))\n",
    "    # print(f.get(\"raw\").shape)\n",
    "    print(f.get(\"y\").shape)\n",
    "    # print(np.array(f.get(\"raw\"))[2].sum(axis=1))"
   ]
  },
  {
   "cell_type": "code",
   "execution_count": null,
   "id": "6398d858-8d40-40e1-ac6b-220d9095afe5",
   "metadata": {
    "tags": []
   },
   "outputs": [],
   "source": [
    "from scipy.sparse import csr_matrix\n"
   ]
  },
  {
   "cell_type": "code",
   "execution_count": null,
   "id": "79673c7d-8e04-4cf3-aec1-544706171c37",
   "metadata": {
    "tags": []
   },
   "outputs": [],
   "source": [
    "max(['4.36 GB', '4.70 GB', '4.88 GB', '5.02 GB', '5.10 GB', '4.71 GB', '4.80 GB', '4.88 GB', '4.97 GB', '5.01 GB', '5.10 GB', '5.25 GB', '5.34 GB', '4.76 GB', '637.36 MB'])"
   ]
  },
  {
   "cell_type": "code",
   "execution_count": null,
   "id": "bb28a02b-0a57-43f2-b640-7a08deccd2f6",
   "metadata": {
    "tags": []
   },
   "outputs": [],
   "source": [
    "data_sparse = csr_matrix([[0, 0, 0], [4, 0, 0], [0, 0, 7]])\n",
    "data_csr = data_sparse.tocsr()\n"
   ]
  },
  {
   "cell_type": "code",
   "execution_count": null,
   "id": "5701056d-fed4-4a1c-8df3-42adacc97c7e",
   "metadata": {
    "tags": []
   },
   "outputs": [],
   "source": [
    "data_csr.toarray()"
   ]
  },
  {
   "cell_type": "code",
   "execution_count": null,
   "id": "3ba2a6a9-b315-4b68-b4e2-bc8cb64be414",
   "metadata": {
    "tags": []
   },
   "outputs": [],
   "source": [
    "with h5py.File(\"./output/final_interactions_gzip.h5\",\"r\") as f:\n",
    "    print(f[\"raw_label\"].shape)\n",
    "    # print(np.array(f[\"raw_label\"]))\n",
    "    print(f.get(\"raw\").shape)\n",
    "    print(np.array(f.get(\"raw\"))[2].sum(axis=1))"
   ]
  },
  {
   "cell_type": "code",
   "execution_count": null,
   "id": "9fd7320f-a1ab-4b0b-a90b-bfcdce7f84c3",
   "metadata": {
    "tags": []
   },
   "outputs": [],
   "source": [
    "with h5py.File(\"./output/final_interactions.h5\",\"r\") as f:\n",
    "    print(f[\"raw_label\"].shape)\n",
    "    # print(np.array(f[\"raw_label\"]))\n",
    "    print(f.get(\"raw\").shape)\n",
    "    print(np.array(f.get(\"raw\"))[2].sum(axis=1))"
   ]
  },
  {
   "cell_type": "code",
   "execution_count": null,
   "id": "88b51993-c49e-40b2-b839-6d5df7302ae8",
   "metadata": {
    "tags": []
   },
   "outputs": [],
   "source": [
    "from dna2vec.multi_k_model import MultiKModel\n",
    "\n",
    "filepath = 'input/dna2vec-20230705-0901-k3to8-100d-10c-32730Mbp-sliding-k0s.w2v'\n",
    "mk_model = MultiKModel(filepath)"
   ]
  },
  {
   "cell_type": "code",
   "execution_count": null,
   "id": "956ba958-cd8d-42e9-84f1-a4d95c59105c",
   "metadata": {
    "tags": []
   },
   "outputs": [],
   "source": [
    "a = mk_model.vector('AAA')"
   ]
  },
  {
   "cell_type": "code",
   "execution_count": null,
   "id": "49a1eb65-8550-445b-9733-847e527f6b82",
   "metadata": {
    "tags": []
   },
   "outputs": [],
   "source": [
    "a"
   ]
  },
  {
   "cell_type": "code",
   "execution_count": null,
   "id": "be27015d-8624-456d-ab87-63b3a1913a0c",
   "metadata": {
    "tags": []
   },
   "outputs": [],
   "source": [
    "import numpy as np"
   ]
  },
  {
   "cell_type": "code",
   "execution_count": null,
   "id": "8809bde6-b64b-46ef-b350-16e35d3c0b66",
   "metadata": {
    "tags": []
   },
   "outputs": [],
   "source": [
    "np.array([0] * 100).reshape(100,)"
   ]
  },
  {
   "cell_type": "code",
   "execution_count": null,
   "id": "31fa2704-f930-4e3d-9d3a-31a257a4d7d2",
   "metadata": {
    "tags": []
   },
   "outputs": [],
   "source": [
    "from Bio.SeqUtils import seq1"
   ]
  },
  {
   "cell_type": "code",
   "execution_count": null,
   "id": "6d6377ed-c1a7-4cfa-8cf1-ae78fde5ec10",
   "metadata": {
    "tags": []
   },
   "outputs": [],
   "source": [
    "sequence = \"ACGATGCTGATGTTGTACA\"\n",
    "k=6\n",
    "k_mer_list = [sequence[i:i+k] for i in range(len(sequence) - k + 1)]"
   ]
  },
  {
   "cell_type": "code",
   "execution_count": null,
   "id": "a6f6deda-2704-4156-b363-6a736c1595d1",
   "metadata": {
    "tags": []
   },
   "outputs": [],
   "source": [
    "k_mer_list"
   ]
  },
  {
   "cell_type": "code",
   "execution_count": null,
   "id": "3b3c420a-58d4-41ae-aaed-5d0311c606d7",
   "metadata": {
    "tags": []
   },
   "outputs": [],
   "source": [
    "type(9)==list"
   ]
  },
  {
   "cell_type": "code",
   "execution_count": null,
   "id": "d860d309-7a52-494c-808b-01c29aa76c05",
   "metadata": {
    "tags": []
   },
   "outputs": [],
   "source": [
    "import torch\n",
    "import h5py"
   ]
  },
  {
   "cell_type": "code",
   "execution_count": null,
   "id": "73926fa3-ff8b-4b7f-bf47-dc2a53682d96",
   "metadata": {
    "tags": []
   },
   "outputs": [],
   "source": [
    "X,y=torch.load(\"output/prep_datasets_train.pt\")"
   ]
  },
  {
   "cell_type": "code",
   "execution_count": null,
   "id": "8c1e8435-2fda-4ff2-88c2-e5b333be9af0",
   "metadata": {
    "tags": []
   },
   "outputs": [],
   "source": [
    "X[0,850]"
   ]
  },
  {
   "cell_type": "code",
   "execution_count": null,
   "id": "28d75bd0-c197-4ad2-8e32-1f99bc3e4699",
   "metadata": {
    "tags": []
   },
   "outputs": [],
   "source": [
    "from torch.utils.data import DataLoader \n"
   ]
  },
  {
   "cell_type": "code",
   "execution_count": null,
   "id": "af59979f-3c41-4f3b-bc09-4b324071d4f3",
   "metadata": {
    "tags": []
   },
   "outputs": [],
   "source": [
    "b=DataLoader(a,batch_size=8)"
   ]
  },
  {
   "cell_type": "code",
   "execution_count": null,
   "id": "8be040f3-5308-4f6c-a3fe-fcf6735f870b",
   "metadata": {
    "tags": []
   },
   "outputs": [],
   "source": [
    "for batch_idx, samples in enumerate(b):\n",
    "    print(batch_idx,samples)"
   ]
  },
  {
   "cell_type": "code",
   "execution_count": null,
   "id": "00d460b8-d26b-4511-9ade-eba985577ae3",
   "metadata": {
    "tags": []
   },
   "outputs": [],
   "source": [
    "help(b)"
   ]
  },
  {
   "cell_type": "code",
   "execution_count": null,
   "id": "6e96cb57-5830-4b5b-bc3d-a1e1d480b235",
   "metadata": {
    "tags": []
   },
   "outputs": [],
   "source": [
    "import h5py\n",
    "import numpy as np"
   ]
  },
  {
   "cell_type": "code",
   "execution_count": null,
   "id": "90dbbcfa-ef84-4701-b78c-5ba86bb914b3",
   "metadata": {
    "tags": []
   },
   "outputs": [],
   "source": [
    "with h5py.File(\"./output/prep_datasets_dna2vec_test.h5\",\"r\") as f:\n",
    "    # print(f[\"raw_label\"].shape)\n",
    "    print(f.keys())\n",
    "    # print(np.array(f[\"raw_label\"]))\n",
    "    # print(f.get(\"raw\").shape)\n",
    "    print(f[\"raw\"][0])\n",
    "    # print(f.get(\"raw_seq2\").shape)\n",
    "    # print(np.array(f.get(\"raw\"))[2].sum(axis=1))"
   ]
  },
  {
   "cell_type": "code",
   "execution_count": null,
   "id": "2340a977-ee48-4548-a8d0-4c694ec9548f",
   "metadata": {
    "tags": []
   },
   "outputs": [],
   "source": [
    "import itertools\n",
    "import numpy as np\n",
    "from keras.preprocessing.text import Tokenizer\n",
    "from keras.preprocessing.sequence import pad_sequences\n",
    "\n",
    "def sentence2word(str_set):\n",
    "    word_seq=[]\n",
    "    for sr in str_set:\n",
    "        tmp=[]\n",
    "        for i in range(len(sr)-5):\n",
    "            if('N' in sr[i:i+6]):\n",
    "                tmp.append('null')\n",
    "            else:\n",
    "                tmp.append(sr[i:i+6])\n",
    "        word_seq.append(' '.join(tmp))\n",
    "    return word_seq\n",
    "\n",
    "def word2num(wordseq,tokenizer,MAX_LEN):\n",
    "    sequences = tokenizer.texts_to_sequences(wordseq)\n",
    "    numseq = pad_sequences(sequences, maxlen=MAX_LEN)\n",
    "    return numseq\n",
    "\n",
    "def sentence2num(str_set,tokenizer,MAX_LEN):\n",
    "    wordseq=sentence2word(str_set)\n",
    "    numseq=word2num(wordseq,tokenizer,MAX_LEN)\n",
    "    return numseq\n",
    "\n",
    "def get_tokenizer():\n",
    "    f= ['a','c','g','t']\n",
    "    c = itertools.product(f,f,f,f,f,f)\n",
    "    res=[]\n",
    "    for i in c:\n",
    "        temp=i[0]+i[1]+i[2]+i[3]+i[4]+i[5]\n",
    "        res.append(temp)\n",
    "    res=np.array(res)\n",
    "    NB_WORDS = 4097\n",
    "    tokenizer = Tokenizer(num_words=NB_WORDS)\n",
    "    tokenizer.fit_on_texts(res)\n",
    "    acgt_index = tokenizer.word_index\n",
    "    acgt_index['null'] = 0\n",
    "    return tokenizer\n",
    "\n",
    "def get_data(enhancers,promoters):\n",
    "    tokenizer=get_tokenizer()\n",
    "    MAX_LEN=3000\n",
    "    X_en=sentence2num(enhancers,tokenizer,MAX_LEN)\n",
    "    MAX_LEN=2000\n",
    "    X_pr=sentence2num(promoters,tokenizer,MAX_LEN)\n",
    "\n",
    "    return X_en,X_pr\n",
    "\n",
    "a,b = get_data(\"acgtagtcatgc\",\"acgtagttcgat\")\n",
    "print(a)"
   ]
  },
  {
   "cell_type": "code",
   "execution_count": null,
   "id": "b5676baf-5fc9-485f-9464-6a136c6a9ed5",
   "metadata": {
    "tags": []
   },
   "outputs": [],
   "source": [
    "with h5py.File(\"./output/final_interactions_dna2vec_split.h5\",\"r\") as f:\n",
    "    print(f.keys())\n",
    "    print(f[\"raw\"].shape)\n",
    "    # print(np.array(f[\"raw_label\"]))\n",
    "    # print(np.array(f.get(\"y\")[:]).shape)\n",
    "    # print(np.array(f.get(\"raw\"))[2].sum(axis=1))"
   ]
  },
  {
   "cell_type": "code",
   "execution_count": null,
   "id": "a3a7bca1-bb28-4c49-a346-4e26d0bd3441",
   "metadata": {
    "tags": []
   },
   "outputs": [],
   "source": [
    "print(torch.get_default_dtype()) "
   ]
  },
  {
   "cell_type": "code",
   "execution_count": null,
   "id": "c9e8db08-ce55-4894-846c-c0c3f9fa67a9",
   "metadata": {
    "tags": []
   },
   "outputs": [],
   "source": [
    "torch.cuda.device_count()"
   ]
  },
  {
   "cell_type": "code",
   "execution_count": null,
   "id": "f3ad28ef-735e-4b02-94c6-38148bd01958",
   "metadata": {},
   "outputs": [],
   "source": [
    "import numpy as np\n",
    "import torch\n",
    "a=np.array([[0.5,0.5],\n",
    "           [0.6,0.2],\n",
    "           [0.2,0.8]])"
   ]
  },
  {
   "cell_type": "code",
   "execution_count": null,
   "id": "768cb809-a92b-4f0b-bb97-5d8393b8e256",
   "metadata": {
    "tags": []
   },
   "outputs": [],
   "source": [
    "a.argmax(dim=1,keepdim=True)"
   ]
  },
  {
   "cell_type": "code",
   "execution_count": null,
   "id": "b6513166-65ba-4bae-8fe1-4e733f6a858b",
   "metadata": {
    "tags": []
   },
   "outputs": [],
   "source": [
    "pred=torch.tensor(a).argmax(dim=1,keepdim=True)"
   ]
  },
  {
   "cell_type": "code",
   "execution_count": null,
   "id": "5e5233d7-5b04-4561-8883-a69ba0284a8e",
   "metadata": {
    "tags": []
   },
   "outputs": [],
   "source": [
    "pred.eq(torch.tensor([0,0,1]).view_as(pred)).sum().item()"
   ]
  },
  {
   "cell_type": "code",
   "execution_count": null,
   "id": "a83f79f8-9b7e-4322-8921-0b5c7c77c37b",
   "metadata": {
    "tags": []
   },
   "outputs": [],
   "source": [
    "y_pred = np.array([[0.2, 0.8],\n",
    "                   [0.7, 0.3],\n",
    "                   [0.6, 0.4]])\n",
    "\n",
    "# Get the probability values for each sample and class\n",
    "sample_indices = [0, 1, 2]  # Indices of the samples you want to retrieve probabilities for\n",
    "class_indices = [0, 1]  # Indices of the classes you want to retrieve probabilities for\n",
    "\n",
    "# Retrieve probabilities for the specified samples and classes\n",
    "selected_probabilities = y_pred[sample_indices][:, class_indices]"
   ]
  },
  {
   "cell_type": "code",
   "execution_count": null,
   "id": "6015ea05-7bf0-4d99-9af6-c54d11984d9e",
   "metadata": {
    "tags": []
   },
   "outputs": [],
   "source": [
    "y_pred = np.array([[0.2, 0.8, 0.1],\n",
    "                   [0.7, 0.1, 0.2],\n",
    "                   [0.3, 0.4, 0.3]])\n",
    "\n",
    "# Example y_true: a 1D array of true class labels for each sample\n",
    "y_true = np.array([1, 0, 1])\n",
    "\n",
    "# Get the probabilities of the correct class for each sample\n",
    "correct_class_probabilities = y_pred[np.arange(len(y_true)), y_true]\n",
    "\n",
    "print(\"Correct Class Probabilities:\")\n",
    "print(correct_class_probabilities)"
   ]
  },
  {
   "cell_type": "code",
   "execution_count": null,
   "id": "a5442e9a-0b10-4cbb-b00f-7234df2f0bf7",
   "metadata": {
    "tags": []
   },
   "outputs": [],
   "source": [
    "np.r_[np.array([1,2,3]),np.array([2,3,4])]"
   ]
  },
  {
   "cell_type": "code",
   "execution_count": null,
   "id": "8a6c7e46-c20c-48d5-aa70-b722dd57b7c2",
   "metadata": {},
   "outputs": [],
   "source": [
    "from scipy.interpolate import interp1d"
   ]
  },
  {
   "cell_type": "code",
   "execution_count": null,
   "id": "34fa6d05-3ddd-45c4-a0bc-1fcdb0c1a527",
   "metadata": {
    "tags": []
   },
   "outputs": [],
   "source": [
    "from modules.evaluation.evaluation import ModelEvaluator"
   ]
  },
  {
   "cell_type": "code",
   "execution_count": null,
   "id": "705c2a03-d398-44d2-9557-2b0367bf2c81",
   "metadata": {
    "tags": []
   },
   "outputs": [],
   "source": [
    "fpr,tpr = [[0,0,0.1,0.2,0.5,1],[0,0.1,0.2,1]],[[0,0,0.1,0.2,0.5,1],[0,0.1,0.2,1]]"
   ]
  },
  {
   "cell_type": "code",
   "execution_count": null,
   "id": "bdfd9775-1f5a-4c9e-be7a-f7273fa9f33e",
   "metadata": {
    "tags": []
   },
   "outputs": [],
   "source": [
    "y_true_list=[]\n",
    "y_pred_list=[]"
   ]
  },
  {
   "cell_type": "code",
   "execution_count": null,
   "id": "63a2dca5-3446-475c-bffb-f4c8f29ca41d",
   "metadata": {
    "tags": []
   },
   "outputs": [],
   "source": [
    "model_evaluator = ModelEvaluator(y_true_list=y_true_list, y_pred_list=y_pred_list)"
   ]
  },
  {
   "cell_type": "code",
   "execution_count": null,
   "id": "14f49bfb-3a0e-4718-a95a-ea7469ffd504",
   "metadata": {
    "tags": []
   },
   "outputs": [],
   "source": [
    "model_evaluator.interp_roc_curve(fpr,tpr)"
   ]
  },
  {
   "cell_type": "code",
   "execution_count": null,
   "id": "61647b3b-ed95-4843-8e8d-c92eb82c78a4",
   "metadata": {},
   "outputs": [],
   "source": [
    "hyperparameters = {\n",
    "    'param1': [1, 2, 3],\n",
    "    'param2': [0.1, 0.01, 0.001],\n",
    "    'param3': ['a', 'b', 'c'],\n",
    "    'param4': [],\n",
    "    'param5': [1]\n",
    "}\n",
    "\n",
    "def remove_null_key(hyperparameters):\n",
    "    # new_dict = hyperparameters\n",
    "    keys = []\n",
    "    for (key, val) in hyperparameters.items():\n",
    "        if len(val) == 0:\n",
    "            keys.append(key)\n",
    "    for key in keys:\n",
    "        del hyperparameters[key]\n",
    "    return hyperparameters\n",
    "\n",
    "def generate_param_combinations(hyperparameters):\n",
    "    \n",
    "    # 检查是否还有未处理的超参数\n",
    "    if len(hyperparameters) == 0:\n",
    "        yield {}  # 返回空字典作为最基本的情况\n",
    "    else:\n",
    "        # 取出第一个超参数\n",
    "        param_name, param_values = next(iter(hyperparameters.items()))\n",
    "        remaining_hyperparameters = dict(hyperparameters)\n",
    "        del remaining_hyperparameters[param_name]\n",
    "        \n",
    "        \n",
    "        # 递归生成剩余超参数的组合\n",
    "        for param_value in param_values:\n",
    "            for param_combination in generate_param_combinations(remaining_hyperparameters):\n",
    "                param_combination[param_name] = param_value\n",
    "                yield param_combination\n",
    "\n",
    "# 生成超参数组合\n",
    "# a = remove_null_key(hyperparameters)\n",
    "# print(a)\n",
    "param_combinations = list(generate_param_combinations(remove_null_key(hyperparameters)))\n",
    "\n",
    "# 遍历超参数组合并进行处理\n",
    "for params in param_combinations:\n",
    "    # 在这里执行你想要进行的操作，例如训练模型等\n",
    "    print(f\"Current hyperparameters: {params}\")"
   ]
  },
  {
   "cell_type": "code",
   "execution_count": null,
   "id": "818b8102-0f80-4ed4-9485-24e29663aa33",
   "metadata": {
    "tags": []
   },
   "outputs": [],
   "source": [
    "len(hyperparameters)"
   ]
  },
  {
   "cell_type": "code",
   "execution_count": null,
   "id": "53ebf082-fdc8-4da0-8232-fc2bd6c8192b",
   "metadata": {},
   "outputs": [],
   "source": [
    "import numpy as np\n",
    "a = [np.nan,1,2,4,5]\n",
    "np.nanmax(a)"
   ]
  },
  {
   "cell_type": "code",
   "execution_count": null,
   "id": "c12a14e7-9950-4350-8bc0-4d6156ff7fca",
   "metadata": {
    "tags": []
   },
   "outputs": [],
   "source": [
    "def isNumber(f):\n",
    "    return all([p.isdigit() for p in [f[:f.find('.')], f[f.find('.')+1:]] if len(p)])\n",
    "def auto_type(s,return_int=True):\n",
    "    if isNumber(s):\n",
    "        if return_int:  # 判断是否为数字\n",
    "            return int(s)\n",
    "        else:\n",
    "            return float(s)\n",
    "    else:\n",
    "        return s  # 否则返回字符串类型\n",
    "    \n",
    "def read_config_file(filename):\n",
    "    config_dict = {}\n",
    "    \n",
    "    with open(filename, 'r') as file:\n",
    "        for line in file:\n",
    "            line = line.strip()\n",
    "            if line:\n",
    "                key, val = line.split(':')\n",
    "                key = key.strip().replace(\" \",\"\")\n",
    "                val = val.strip().replace(\" \",\"\")\n",
    "                \n",
    "                if not val:\n",
    "                    config_dict[key] = []\n",
    "                else:\n",
    "                    config_dict[key] = [auto_type(i,return_int=False) for i in val.split(\",\")]\n",
    "    \n",
    "    return config_dict\n",
    "\n",
    "config_filename = 'config.txt'\n",
    "config_data = read_config_file(config_filename)\n",
    "print(config_data)\n"
   ]
  },
  {
   "cell_type": "code",
   "execution_count": null,
   "id": "e9548ce4-fbc9-4de6-bd4f-15b88495eff7",
   "metadata": {
    "tags": []
   },
   "outputs": [],
   "source": [
    "np.random.choice(a,20)"
   ]
  },
  {
   "cell_type": "code",
   "execution_count": null,
   "id": "f30d949f-550c-4a0c-aa78-ad842fc67f0d",
   "metadata": {
    "tags": []
   },
   "outputs": [],
   "source": [
    "isNumber(\"1.01\")"
   ]
  },
  {
   "cell_type": "code",
   "execution_count": null,
   "id": "bf931f35-5a6e-40cb-9d9e-6f3a3cd139b2",
   "metadata": {},
   "outputs": [],
   "source": [
    "import torch"
   ]
  },
  {
   "cell_type": "code",
   "execution_count": null,
   "id": "f2085904-264d-4aa5-bd8e-077b98c4e526",
   "metadata": {
    "tags": []
   },
   "outputs": [],
   "source": [
    "device = \"cuda\"\n",
    "torch.randn((2, 3), device=device)\n"
   ]
  },
  {
   "cell_type": "code",
   "execution_count": null,
   "id": "cc14719e-95f9-42d1-a676-7a810e26808f",
   "metadata": {
    "tags": []
   },
   "outputs": [],
   "source": [
    "torch.cuda.empty_cache()"
   ]
  },
  {
   "cell_type": "code",
   "execution_count": null,
   "id": "32fa5e2d-1c07-45ad-9d15-a093eb2318ba",
   "metadata": {},
   "outputs": [],
   "source": [
    "torch.cuda.is_available()"
   ]
  },
  {
   "cell_type": "code",
   "execution_count": 1,
   "id": "f0161c1c-ac5b-4c5c-90cc-7633f2a7d1ae",
   "metadata": {},
   "outputs": [],
   "source": [
    "import torch"
   ]
  },
  {
   "cell_type": "code",
   "execution_count": 5,
   "id": "27fe5ab1-a1ca-4b4c-accd-0cb9f8ea0d79",
   "metadata": {
    "tags": []
   },
   "outputs": [
    {
     "data": {
      "text/plain": [
       "tensor([0])"
      ]
     },
     "execution_count": 5,
     "metadata": {},
     "output_type": "execute_result"
    }
   ],
   "source": [
    "torch.argmax(torch.tensor([[1,0]]),dim=1)"
   ]
  },
  {
   "cell_type": "code",
   "execution_count": null,
   "id": "1a5f9d36-44ea-4353-a5a5-fd30ca6928ae",
   "metadata": {},
   "outputs": [],
   "source": []
  }
 ],
 "metadata": {
  "kernelspec": {
   "display_name": "Python 3 (ipykernel)",
   "language": "python",
   "name": "python3"
  },
  "language_info": {
   "codemirror_mode": {
    "name": "ipython",
    "version": 3
   },
   "file_extension": ".py",
   "mimetype": "text/x-python",
   "name": "python",
   "nbconvert_exporter": "python",
   "pygments_lexer": "ipython3",
   "version": "3.8.17"
  }
 },
 "nbformat": 4,
 "nbformat_minor": 5
}
