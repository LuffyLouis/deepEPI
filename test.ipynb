{
 "cells": [
  {
   "cell_type": "code",
   "execution_count": 1,
   "id": "4b49c5f1-e5bf-4d79-a9ca-ea3959837d1a",
   "metadata": {},
   "outputs": [],
   "source": [
    "import os"
   ]
  },
  {
   "cell_type": "code",
   "execution_count": 6,
   "id": "82b3c2c1-7a98-4e00-aa61-c53c2a7664b8",
   "metadata": {
    "tags": []
   },
   "outputs": [
    {
     "data": {
      "text/plain": [
       "['.idea',\n",
       " '.ipynb_checkpoints',\n",
       " 'annotated_interactions.txt',\n",
       " 'bash.sh',\n",
       " 'eigen_chr1_500kb.txt',\n",
       " 'filt_interactions.txt',\n",
       " 'hg38.chrom_size',\n",
       " 'keep_chrom.txt',\n",
       " 'main.py',\n",
       " 'modules',\n",
       " 'output',\n",
       " 'requirements.txt',\n",
       " 'SRR400264_00.allValidPairs',\n",
       " 'SRR400264_00.allValidPairs.hic',\n",
       " 'test.py',\n",
       " 'Untitled.ipynb',\n",
       " 'workflow.pptx',\n",
       " '~$workflow.pptx']"
      ]
     },
     "execution_count": 6,
     "metadata": {},
     "output_type": "execute_result"
    }
   ],
   "source": [
    "os.listdir(\"./\")"
   ]
  },
  {
   "cell_type": "code",
   "execution_count": 3,
   "id": "9f3538df-c094-42b4-a4c7-cad5826cd262",
   "metadata": {},
   "outputs": [],
   "source": [
    "from sklearn.preprocessing import  OneHotEncoder\n"
   ]
  },
  {
   "cell_type": "code",
   "execution_count": 4,
   "id": "d9227e2d-210a-4787-838d-8b05c50c99cd",
   "metadata": {
    "tags": []
   },
   "outputs": [
    {
     "data": {
      "text/html": [
       "<style>#sk-container-id-1 {color: black;}#sk-container-id-1 pre{padding: 0;}#sk-container-id-1 div.sk-toggleable {background-color: white;}#sk-container-id-1 label.sk-toggleable__label {cursor: pointer;display: block;width: 100%;margin-bottom: 0;padding: 0.3em;box-sizing: border-box;text-align: center;}#sk-container-id-1 label.sk-toggleable__label-arrow:before {content: \"▸\";float: left;margin-right: 0.25em;color: #696969;}#sk-container-id-1 label.sk-toggleable__label-arrow:hover:before {color: black;}#sk-container-id-1 div.sk-estimator:hover label.sk-toggleable__label-arrow:before {color: black;}#sk-container-id-1 div.sk-toggleable__content {max-height: 0;max-width: 0;overflow: hidden;text-align: left;background-color: #f0f8ff;}#sk-container-id-1 div.sk-toggleable__content pre {margin: 0.2em;color: black;border-radius: 0.25em;background-color: #f0f8ff;}#sk-container-id-1 input.sk-toggleable__control:checked~div.sk-toggleable__content {max-height: 200px;max-width: 100%;overflow: auto;}#sk-container-id-1 input.sk-toggleable__control:checked~label.sk-toggleable__label-arrow:before {content: \"▾\";}#sk-container-id-1 div.sk-estimator input.sk-toggleable__control:checked~label.sk-toggleable__label {background-color: #d4ebff;}#sk-container-id-1 div.sk-label input.sk-toggleable__control:checked~label.sk-toggleable__label {background-color: #d4ebff;}#sk-container-id-1 input.sk-hidden--visually {border: 0;clip: rect(1px 1px 1px 1px);clip: rect(1px, 1px, 1px, 1px);height: 1px;margin: -1px;overflow: hidden;padding: 0;position: absolute;width: 1px;}#sk-container-id-1 div.sk-estimator {font-family: monospace;background-color: #f0f8ff;border: 1px dotted black;border-radius: 0.25em;box-sizing: border-box;margin-bottom: 0.5em;}#sk-container-id-1 div.sk-estimator:hover {background-color: #d4ebff;}#sk-container-id-1 div.sk-parallel-item::after {content: \"\";width: 100%;border-bottom: 1px solid gray;flex-grow: 1;}#sk-container-id-1 div.sk-label:hover label.sk-toggleable__label {background-color: #d4ebff;}#sk-container-id-1 div.sk-serial::before {content: \"\";position: absolute;border-left: 1px solid gray;box-sizing: border-box;top: 0;bottom: 0;left: 50%;z-index: 0;}#sk-container-id-1 div.sk-serial {display: flex;flex-direction: column;align-items: center;background-color: white;padding-right: 0.2em;padding-left: 0.2em;position: relative;}#sk-container-id-1 div.sk-item {position: relative;z-index: 1;}#sk-container-id-1 div.sk-parallel {display: flex;align-items: stretch;justify-content: center;background-color: white;position: relative;}#sk-container-id-1 div.sk-item::before, #sk-container-id-1 div.sk-parallel-item::before {content: \"\";position: absolute;border-left: 1px solid gray;box-sizing: border-box;top: 0;bottom: 0;left: 50%;z-index: -1;}#sk-container-id-1 div.sk-parallel-item {display: flex;flex-direction: column;z-index: 1;position: relative;background-color: white;}#sk-container-id-1 div.sk-parallel-item:first-child::after {align-self: flex-end;width: 50%;}#sk-container-id-1 div.sk-parallel-item:last-child::after {align-self: flex-start;width: 50%;}#sk-container-id-1 div.sk-parallel-item:only-child::after {width: 0;}#sk-container-id-1 div.sk-dashed-wrapped {border: 1px dashed gray;margin: 0 0.4em 0.5em 0.4em;box-sizing: border-box;padding-bottom: 0.4em;background-color: white;}#sk-container-id-1 div.sk-label label {font-family: monospace;font-weight: bold;display: inline-block;line-height: 1.2em;}#sk-container-id-1 div.sk-label-container {text-align: center;}#sk-container-id-1 div.sk-container {/* jupyter's `normalize.less` sets `[hidden] { display: none; }` but bootstrap.min.css set `[hidden] { display: none !important; }` so we also need the `!important` here to be able to override the default hidden behavior on the sphinx rendered scikit-learn.org. See: https://github.com/scikit-learn/scikit-learn/issues/21755 */display: inline-block !important;position: relative;}#sk-container-id-1 div.sk-text-repr-fallback {display: none;}</style><div id=\"sk-container-id-1\" class=\"sk-top-container\"><div class=\"sk-text-repr-fallback\"><pre>OneHotEncoder()</pre><b>In a Jupyter environment, please rerun this cell to show the HTML representation or trust the notebook. <br />On GitHub, the HTML representation is unable to render, please try loading this page with nbviewer.org.</b></div><div class=\"sk-container\" hidden><div class=\"sk-item\"><div class=\"sk-estimator sk-toggleable\"><input class=\"sk-toggleable__control sk-hidden--visually\" id=\"sk-estimator-id-1\" type=\"checkbox\" checked><label for=\"sk-estimator-id-1\" class=\"sk-toggleable__label sk-toggleable__label-arrow\">OneHotEncoder</label><div class=\"sk-toggleable__content\"><pre>OneHotEncoder()</pre></div></div></div></div></div>"
      ],
      "text/plain": [
       "OneHotEncoder()"
      ]
     },
     "execution_count": 4,
     "metadata": {},
     "output_type": "execute_result"
    }
   ],
   "source": [
    "enc = OneHotEncoder()\n",
    "enc.fit([[0, 0, 3],\n",
    "         [1, 1, 0],\n",
    "         [0, 2, 1],\n",
    "         [1, 0, 2]])"
   ]
  },
  {
   "cell_type": "code",
   "execution_count": 5,
   "id": "6bc0c92e-a67c-4d5f-b45d-314a79554a43",
   "metadata": {
    "tags": []
   },
   "outputs": [],
   "source": [
    "ans = enc.transform([[0, 1, 3]]).toarray() \n"
   ]
  },
  {
   "cell_type": "code",
   "execution_count": 11,
   "id": "dfd8da75-5110-409b-9076-6361d582aee1",
   "metadata": {
    "tags": []
   },
   "outputs": [
    {
     "data": {
      "text/html": [
       "<style>#sk-container-id-3 {color: black;}#sk-container-id-3 pre{padding: 0;}#sk-container-id-3 div.sk-toggleable {background-color: white;}#sk-container-id-3 label.sk-toggleable__label {cursor: pointer;display: block;width: 100%;margin-bottom: 0;padding: 0.3em;box-sizing: border-box;text-align: center;}#sk-container-id-3 label.sk-toggleable__label-arrow:before {content: \"▸\";float: left;margin-right: 0.25em;color: #696969;}#sk-container-id-3 label.sk-toggleable__label-arrow:hover:before {color: black;}#sk-container-id-3 div.sk-estimator:hover label.sk-toggleable__label-arrow:before {color: black;}#sk-container-id-3 div.sk-toggleable__content {max-height: 0;max-width: 0;overflow: hidden;text-align: left;background-color: #f0f8ff;}#sk-container-id-3 div.sk-toggleable__content pre {margin: 0.2em;color: black;border-radius: 0.25em;background-color: #f0f8ff;}#sk-container-id-3 input.sk-toggleable__control:checked~div.sk-toggleable__content {max-height: 200px;max-width: 100%;overflow: auto;}#sk-container-id-3 input.sk-toggleable__control:checked~label.sk-toggleable__label-arrow:before {content: \"▾\";}#sk-container-id-3 div.sk-estimator input.sk-toggleable__control:checked~label.sk-toggleable__label {background-color: #d4ebff;}#sk-container-id-3 div.sk-label input.sk-toggleable__control:checked~label.sk-toggleable__label {background-color: #d4ebff;}#sk-container-id-3 input.sk-hidden--visually {border: 0;clip: rect(1px 1px 1px 1px);clip: rect(1px, 1px, 1px, 1px);height: 1px;margin: -1px;overflow: hidden;padding: 0;position: absolute;width: 1px;}#sk-container-id-3 div.sk-estimator {font-family: monospace;background-color: #f0f8ff;border: 1px dotted black;border-radius: 0.25em;box-sizing: border-box;margin-bottom: 0.5em;}#sk-container-id-3 div.sk-estimator:hover {background-color: #d4ebff;}#sk-container-id-3 div.sk-parallel-item::after {content: \"\";width: 100%;border-bottom: 1px solid gray;flex-grow: 1;}#sk-container-id-3 div.sk-label:hover label.sk-toggleable__label {background-color: #d4ebff;}#sk-container-id-3 div.sk-serial::before {content: \"\";position: absolute;border-left: 1px solid gray;box-sizing: border-box;top: 0;bottom: 0;left: 50%;z-index: 0;}#sk-container-id-3 div.sk-serial {display: flex;flex-direction: column;align-items: center;background-color: white;padding-right: 0.2em;padding-left: 0.2em;position: relative;}#sk-container-id-3 div.sk-item {position: relative;z-index: 1;}#sk-container-id-3 div.sk-parallel {display: flex;align-items: stretch;justify-content: center;background-color: white;position: relative;}#sk-container-id-3 div.sk-item::before, #sk-container-id-3 div.sk-parallel-item::before {content: \"\";position: absolute;border-left: 1px solid gray;box-sizing: border-box;top: 0;bottom: 0;left: 50%;z-index: -1;}#sk-container-id-3 div.sk-parallel-item {display: flex;flex-direction: column;z-index: 1;position: relative;background-color: white;}#sk-container-id-3 div.sk-parallel-item:first-child::after {align-self: flex-end;width: 50%;}#sk-container-id-3 div.sk-parallel-item:last-child::after {align-self: flex-start;width: 50%;}#sk-container-id-3 div.sk-parallel-item:only-child::after {width: 0;}#sk-container-id-3 div.sk-dashed-wrapped {border: 1px dashed gray;margin: 0 0.4em 0.5em 0.4em;box-sizing: border-box;padding-bottom: 0.4em;background-color: white;}#sk-container-id-3 div.sk-label label {font-family: monospace;font-weight: bold;display: inline-block;line-height: 1.2em;}#sk-container-id-3 div.sk-label-container {text-align: center;}#sk-container-id-3 div.sk-container {/* jupyter's `normalize.less` sets `[hidden] { display: none; }` but bootstrap.min.css set `[hidden] { display: none !important; }` so we also need the `!important` here to be able to override the default hidden behavior on the sphinx rendered scikit-learn.org. See: https://github.com/scikit-learn/scikit-learn/issues/21755 */display: inline-block !important;position: relative;}#sk-container-id-3 div.sk-text-repr-fallback {display: none;}</style><div id=\"sk-container-id-3\" class=\"sk-top-container\"><div class=\"sk-text-repr-fallback\"><pre>OneHotEncoder()</pre><b>In a Jupyter environment, please rerun this cell to show the HTML representation or trust the notebook. <br />On GitHub, the HTML representation is unable to render, please try loading this page with nbviewer.org.</b></div><div class=\"sk-container\" hidden><div class=\"sk-item\"><div class=\"sk-estimator sk-toggleable\"><input class=\"sk-toggleable__control sk-hidden--visually\" id=\"sk-estimator-id-3\" type=\"checkbox\" checked><label for=\"sk-estimator-id-3\" class=\"sk-toggleable__label sk-toggleable__label-arrow\">OneHotEncoder</label><div class=\"sk-toggleable__content\"><pre>OneHotEncoder()</pre></div></div></div></div></div>"
      ],
      "text/plain": [
       "OneHotEncoder()"
      ]
     },
     "execution_count": 11,
     "metadata": {},
     "output_type": "execute_result"
    }
   ],
   "source": [
    "enc.fit([[\"A\"],[\"C\"],[\"T\"],[\"G\"]])"
   ]
  },
  {
   "cell_type": "code",
   "execution_count": 14,
   "id": "80737264-78f3-4f95-b71b-8f63823cb5b0",
   "metadata": {
    "tags": []
   },
   "outputs": [
    {
     "data": {
      "text/plain": [
       "array([[1., 0., 0., 0.],\n",
       "       [0., 0., 1., 0.],\n",
       "       [0., 0., 0., 1.],\n",
       "       [0., 0., 0., 1.],\n",
       "       [0., 1., 0., 0.]])"
      ]
     },
     "execution_count": 14,
     "metadata": {},
     "output_type": "execute_result"
    }
   ],
   "source": [
    "enc.transform([[\"A\"],[\"G\"],[\"T\"],[\"T\"],[\"C\"]]).toarray()"
   ]
  },
  {
   "cell_type": "code",
   "execution_count": 42,
   "id": "d0ae9f88-7e23-4b0a-8434-bcdbce206ed1",
   "metadata": {
    "tags": []
   },
   "outputs": [],
   "source": [
    "a=enc.transform([[\"A\"],[\"G\"],[\"T\"],[\"T\"],[\"C\"]])"
   ]
  },
  {
   "cell_type": "code",
   "execution_count": 43,
   "id": "ecca9586-267a-4ca0-8b97-3c9565eac1ee",
   "metadata": {
    "tags": []
   },
   "outputs": [
    {
     "data": {
      "text/plain": [
       "array([[1., 0., 0., 0.],\n",
       "       [0., 0., 1., 0.],\n",
       "       [0., 0., 0., 1.],\n",
       "       [0., 0., 0., 1.],\n",
       "       [0., 1., 0., 0.]])"
      ]
     },
     "execution_count": 43,
     "metadata": {},
     "output_type": "execute_result"
    }
   ],
   "source": [
    "a.toarray()"
   ]
  },
  {
   "cell_type": "code",
   "execution_count": 17,
   "id": "1d0e49b7-05be-4f02-ac37-9e0797240728",
   "metadata": {
    "tags": []
   },
   "outputs": [],
   "source": [
    "import numpy as np"
   ]
  },
  {
   "cell_type": "code",
   "execution_count": 20,
   "id": "354d2823-ee73-4360-b86f-a5fc4dd881d9",
   "metadata": {
    "tags": []
   },
   "outputs": [
    {
     "data": {
      "text/plain": [
       "array([[1., 0., 0., 0.],\n",
       "       [0., 1., 0., 0.],\n",
       "       [0., 0., 0., 1.],\n",
       "       [0., 0., 1., 0.],\n",
       "       [1., 0., 0., 0.],\n",
       "       [0., 0., 0., 1.],\n",
       "       [0., 0., 1., 0.],\n",
       "       [0., 1., 0., 0.],\n",
       "       [0., 0., 0., 1.],\n",
       "       [1., 0., 0., 0.],\n",
       "       [0., 0., 1., 0.],\n",
       "       [0., 0., 0., 1.],\n",
       "       [0., 0., 1., 0.],\n",
       "       [0., 0., 0., 1.],\n",
       "       [1., 0., 0., 0.],\n",
       "       [0., 0., 1., 0.],\n",
       "       [0., 1., 0., 0.],\n",
       "       [1., 0., 0., 0.]])"
      ]
     },
     "execution_count": 20,
     "metadata": {},
     "output_type": "execute_result"
    }
   ],
   "source": [
    "a=\"ACTGATGCTAGTGTAGCA\"\n",
    "b=np.array(list(a)).reshape(-1,1)\n",
    "enc.transform(b).toarray()"
   ]
  },
  {
   "cell_type": "code",
   "execution_count": 22,
   "id": "583efa2b-1c1d-41b6-b0b8-161adecfeaa3",
   "metadata": {
    "tags": []
   },
   "outputs": [
    {
     "name": "stdout",
     "output_type": "stream",
     "text": [
      "Dense Matrix:\n",
      "[[1 0 0]\n",
      " [0 2 0]\n",
      " [0 0 3]\n",
      " [0 0 1]]\n",
      "\n",
      "Sparse Matrix:\n",
      "  (0, 0)\t1\n",
      "  (1, 1)\t2\n",
      "  (2, 2)\t3\n",
      "  (3, 2)\t1\n"
     ]
    }
   ],
   "source": [
    "import numpy as np\n",
    "from scipy.sparse import csr_matrix\n",
    "\n",
    "# Dense matrix (normal 2D array)\n",
    "dense_matrix = np.array([[1, 0, 0],\n",
    "                         [0, 2, 0],\n",
    "                         [0, 0, 3],\n",
    "                         [0, 0, 1],\n",
    "                        ])\n",
    "\n",
    "# Convert dense matrix to sparse matrix (CSR format)\n",
    "sparse_matrix = csr_matrix(dense_matrix)\n",
    "\n",
    "print(\"Dense Matrix:\")\n",
    "print(dense_matrix)\n",
    "\n",
    "print(\"\\nSparse Matrix:\")\n",
    "print(sparse_matrix)"
   ]
  },
  {
   "cell_type": "code",
   "execution_count": 25,
   "id": "dfd468de-5cf4-4f36-bf90-e91612f3eb62",
   "metadata": {
    "tags": []
   },
   "outputs": [
    {
     "data": {
      "text/plain": [
       "array([['A'],\n",
       "       ['C'],\n",
       "       ['T'],\n",
       "       ['G']], dtype='<U1')"
      ]
     },
     "execution_count": 25,
     "metadata": {},
     "output_type": "execute_result"
    }
   ],
   "source": [
    "np.array(list(\"ACTG\")).reshape(-1,1)"
   ]
  },
  {
   "cell_type": "code",
   "execution_count": 27,
   "id": "2517f335-2b0b-4742-b14c-79675d799e47",
   "metadata": {
    "tags": []
   },
   "outputs": [],
   "source": [
    "import pyfastx"
   ]
  },
  {
   "cell_type": "code",
   "execution_count": 28,
   "id": "69ff6fc7-c4a5-433e-aeea-c12fa84b6657",
   "metadata": {
    "tags": []
   },
   "outputs": [],
   "source": [
    "fa = pyfastx.Fasta(\"./test.fa\",uppercase=True)"
   ]
  },
  {
   "cell_type": "code",
   "execution_count": 37,
   "id": "57d1d776-e6d7-4f0d-b27c-c390d3b14f2c",
   "metadata": {
    "tags": []
   },
   "outputs": [
    {
     "data": {
      "text/plain": [
       "'chr1'"
      ]
     },
     "execution_count": 37,
     "metadata": {},
     "output_type": "execute_result"
    }
   ],
   "source": [
    "fa[\"chr1\"].name"
   ]
  },
  {
   "cell_type": "code",
   "execution_count": 38,
   "id": "8cd2ce8f-935e-4811-b749-1834c7a5fdc6",
   "metadata": {
    "tags": []
   },
   "outputs": [],
   "source": [
    "a=fa[\"chr1\"]"
   ]
  },
  {
   "cell_type": "code",
   "execution_count": 39,
   "id": "87b0065a-ff07-414a-afab-9acdfea05ea4",
   "metadata": {
    "tags": []
   },
   "outputs": [],
   "source": [
    "b=fa[\"chr1\"]"
   ]
  },
  {
   "cell_type": "code",
   "execution_count": 40,
   "id": "dad6a56d-5cc6-4277-83cb-4cbc898533c0",
   "metadata": {
    "tags": []
   },
   "outputs": [
    {
     "data": {
      "text/plain": [
       "'ACTGATGCTTGTATGCTTAGTG'"
      ]
     },
     "execution_count": 40,
     "metadata": {},
     "output_type": "execute_result"
    }
   ],
   "source": [
    "a.seq"
   ]
  },
  {
   "cell_type": "code",
   "execution_count": 41,
   "id": "1af0dbbc-0531-44ab-9e60-429873aa1cb9",
   "metadata": {
    "tags": []
   },
   "outputs": [
    {
     "data": {
      "text/plain": [
       "'ACTGATGCTTGTATGCTTAGTG'"
      ]
     },
     "execution_count": 41,
     "metadata": {},
     "output_type": "execute_result"
    }
   ],
   "source": [
    "b.seq"
   ]
  },
  {
   "cell_type": "code",
   "execution_count": 45,
   "id": "8846e6b7-d1ef-448c-969b-0ab6c0b7bcbd",
   "metadata": {
    "tags": []
   },
   "outputs": [
    {
     "name": "stdout",
     "output_type": "stream",
     "text": [
      "False\n"
     ]
    }
   ],
   "source": [
    "import h5py\n",
    "with h5py.File(\"./output/final_interactions.h5\",\"w\") as f:\n",
    "    print(\"raw\" in f)"
   ]
  },
  {
   "cell_type": "code",
   "execution_count": 87,
   "id": "1c3cb909-b549-4118-b25b-590f025cad00",
   "metadata": {
    "tags": []
   },
   "outputs": [
    {
     "name": "stdout",
     "output_type": "stream",
     "text": [
      "(6, 1, 1)\n",
      "(6, 2000, 20)\n",
      "[4. 4. 4. ... 4. 4. 4.]\n"
     ]
    }
   ],
   "source": [
    "with h5py.File(\"./output/temp_extract/temp_extract_15\",\"r\") as f:\n",
    "    print(f[\"raw_label\"].shape)\n",
    "    # print(np.array(f[\"raw_label\"]))\n",
    "    print(f.get(\"raw\").shape)\n",
    "    print(np.array(f.get(\"raw\"))[2].sum(axis=1))"
   ]
  },
  {
   "cell_type": "code",
   "execution_count": 77,
   "id": "6398d858-8d40-40e1-ac6b-220d9095afe5",
   "metadata": {
    "tags": []
   },
   "outputs": [],
   "source": [
    "from scipy.sparse import csr_matrix\n"
   ]
  },
  {
   "cell_type": "code",
   "execution_count": 78,
   "id": "bb28a02b-0a57-43f2-b640-7a08deccd2f6",
   "metadata": {
    "tags": []
   },
   "outputs": [],
   "source": [
    "data_sparse = csr_matrix([[0, 0, 0], [4, 0, 0], [0, 0, 7]])\n",
    "data_csr = data_sparse.tocsr()\n"
   ]
  },
  {
   "cell_type": "code",
   "execution_count": 84,
   "id": "5701056d-fed4-4a1c-8df3-42adacc97c7e",
   "metadata": {
    "tags": []
   },
   "outputs": [
    {
     "data": {
      "text/plain": [
       "array([[0, 0, 0],\n",
       "       [4, 0, 0],\n",
       "       [0, 0, 7]])"
      ]
     },
     "execution_count": 84,
     "metadata": {},
     "output_type": "execute_result"
    }
   ],
   "source": [
    "data_csr.toarray()"
   ]
  },
  {
   "cell_type": "code",
   "execution_count": 86,
   "id": "3ba2a6a9-b315-4b68-b4e2-bc8cb64be414",
   "metadata": {
    "tags": []
   },
   "outputs": [
    {
     "name": "stdout",
     "output_type": "stream",
     "text": [
      "(100, 1, 1)\n",
      "(94, 2000, 20)\n",
      "[4. 4. 4. ... 4. 4. 4.]\n"
     ]
    }
   ],
   "source": [
    "with h5py.File(\"./output/final_interactions_gzip.h5\",\"r\") as f:\n",
    "    print(f[\"raw_label\"].shape)\n",
    "    # print(np.array(f[\"raw_label\"]))\n",
    "    print(f.get(\"raw\").shape)\n",
    "    print(np.array(f.get(\"raw\"))[2].sum(axis=1))"
   ]
  },
  {
   "cell_type": "code",
   "execution_count": 88,
   "id": "9fd7320f-a1ab-4b0b-a90b-bfcdce7f84c3",
   "metadata": {
    "tags": []
   },
   "outputs": [
    {
     "name": "stdout",
     "output_type": "stream",
     "text": [
      "(100, 1, 1)\n",
      "(94, 2000, 20)\n",
      "[4. 4. 4. ... 4. 4. 4.]\n"
     ]
    }
   ],
   "source": [
    "with h5py.File(\"./output/final_interactions.h5\",\"r\") as f:\n",
    "    print(f[\"raw_label\"].shape)\n",
    "    # print(np.array(f[\"raw_label\"]))\n",
    "    print(f.get(\"raw\").shape)\n",
    "    print(np.array(f.get(\"raw\"))[2].sum(axis=1))"
   ]
  },
  {
   "cell_type": "code",
   "execution_count": 1,
   "id": "88b51993-c49e-40b2-b839-6d5df7302ae8",
   "metadata": {
    "tags": []
   },
   "outputs": [],
   "source": [
    "from dna2vec.multi_k_model import MultiKModel\n",
    "\n",
    "filepath = 'input/dna2vec-20230705-0901-k3to8-100d-10c-32730Mbp-sliding-k0s.w2v'\n",
    "mk_model = MultiKModel(filepath)"
   ]
  },
  {
   "cell_type": "code",
   "execution_count": 4,
   "id": "956ba958-cd8d-42e9-84f1-a4d95c59105c",
   "metadata": {
    "tags": []
   },
   "outputs": [],
   "source": [
    "a = mk_model.vector('AAA')"
   ]
  },
  {
   "cell_type": "code",
   "execution_count": 19,
   "id": "49a1eb65-8550-445b-9733-847e527f6b82",
   "metadata": {
    "tags": []
   },
   "outputs": [
    {
     "data": {
      "text/plain": [
       "array([ 4.50780e-02,  7.72100e-02, -1.76706e-01,  3.26820e-01,\n",
       "        1.40459e-01,  8.32360e-02, -4.95850e-02,  9.62070e-02,\n",
       "       -4.02159e-01,  1.47676e-01,  3.03783e-01, -1.10233e-01,\n",
       "        1.27718e-01,  4.59070e-02,  1.82718e-01,  2.92419e-01,\n",
       "        3.89690e-02,  8.76730e-02, -1.22357e-01, -2.19144e-01,\n",
       "       -5.10790e-02, -6.57741e-01, -7.77400e-02, -2.20840e-01,\n",
       "        3.06904e-01, -2.37720e-02, -2.12180e-01, -3.73480e-02,\n",
       "        1.39664e-01,  4.31456e-01, -1.36412e-01, -1.51886e-01,\n",
       "        1.27832e-01, -2.05802e-01, -1.14535e-01,  2.54527e-01,\n",
       "       -5.44000e-04,  3.73012e-01, -1.79577e-01, -2.44162e-01,\n",
       "       -1.16711e-01, -1.10882e-01,  1.03541e-01, -5.40540e-02,\n",
       "       -9.38630e-02,  3.53369e-01,  1.02665e-01,  3.04960e-02,\n",
       "       -1.71053e-01,  4.76510e-02,  1.33784e-01,  2.73713e-01,\n",
       "        9.61800e-03,  3.11577e-01,  1.61272e-01, -2.59980e-01,\n",
       "       -1.16358e-01,  1.13813e-01, -2.36904e-01,  8.80600e-03,\n",
       "       -1.86800e-01, -4.16710e-01,  1.11650e-02,  2.32994e-01,\n",
       "        3.21886e-01,  5.80100e-02,  2.54657e-01,  4.18980e-02,\n",
       "       -3.51290e-02, -2.61740e-02, -3.14777e-01, -2.45093e-01,\n",
       "       -1.88887e-01,  8.49850e-02,  1.41040e-02,  2.19632e-01,\n",
       "        7.59100e-02,  7.76780e-02, -1.00084e-01,  5.21100e-02,\n",
       "        2.58607e-01, -3.93223e-01,  4.54130e-02, -1.84131e-01,\n",
       "        1.88398e-01, -1.23998e-01, -2.74555e-01, -1.95850e-01,\n",
       "        8.43900e-02,  1.35384e-01,  5.86770e-02,  2.03330e-02,\n",
       "       -5.38500e-03,  5.79440e-02, -3.50719e-01, -1.32696e-01,\n",
       "       -3.27950e-02,  7.11580e-02, -1.20214e-01, -1.11582e-01],\n",
       "      dtype=float32)"
      ]
     },
     "execution_count": 19,
     "metadata": {},
     "output_type": "execute_result"
    }
   ],
   "source": [
    "a"
   ]
  },
  {
   "cell_type": "code",
   "execution_count": 16,
   "id": "be27015d-8624-456d-ab87-63b3a1913a0c",
   "metadata": {
    "tags": []
   },
   "outputs": [],
   "source": [
    "import numpy as np"
   ]
  },
  {
   "cell_type": "code",
   "execution_count": 18,
   "id": "8809bde6-b64b-46ef-b350-16e35d3c0b66",
   "metadata": {
    "tags": []
   },
   "outputs": [
    {
     "data": {
      "text/plain": [
       "array([0, 0, 0, 0, 0, 0, 0, 0, 0, 0, 0, 0, 0, 0, 0, 0, 0, 0, 0, 0, 0, 0,\n",
       "       0, 0, 0, 0, 0, 0, 0, 0, 0, 0, 0, 0, 0, 0, 0, 0, 0, 0, 0, 0, 0, 0,\n",
       "       0, 0, 0, 0, 0, 0, 0, 0, 0, 0, 0, 0, 0, 0, 0, 0, 0, 0, 0, 0, 0, 0,\n",
       "       0, 0, 0, 0, 0, 0, 0, 0, 0, 0, 0, 0, 0, 0, 0, 0, 0, 0, 0, 0, 0, 0,\n",
       "       0, 0, 0, 0, 0, 0, 0, 0, 0, 0, 0, 0])"
      ]
     },
     "execution_count": 18,
     "metadata": {},
     "output_type": "execute_result"
    }
   ],
   "source": [
    "np.array([0] * 100).reshape(100,)"
   ]
  },
  {
   "cell_type": "code",
   "execution_count": 6,
   "id": "31fa2704-f930-4e3d-9d3a-31a257a4d7d2",
   "metadata": {
    "tags": []
   },
   "outputs": [],
   "source": [
    "from Bio.SeqUtils import seq1"
   ]
  },
  {
   "cell_type": "code",
   "execution_count": 10,
   "id": "6d6377ed-c1a7-4cfa-8cf1-ae78fde5ec10",
   "metadata": {
    "tags": []
   },
   "outputs": [],
   "source": [
    "sequence = \"ACGATGCTGATGTTGTACA\"\n",
    "k=6\n",
    "k_mer_list = [sequence[i:i+k] for i in range(len(sequence) - k + 1)]"
   ]
  },
  {
   "cell_type": "code",
   "execution_count": 11,
   "id": "a6f6deda-2704-4156-b363-6a736c1595d1",
   "metadata": {
    "tags": []
   },
   "outputs": [
    {
     "data": {
      "text/plain": [
       "['ACGATG',\n",
       " 'CGATGC',\n",
       " 'GATGCT',\n",
       " 'ATGCTG',\n",
       " 'TGCTGA',\n",
       " 'GCTGAT',\n",
       " 'CTGATG',\n",
       " 'TGATGT',\n",
       " 'GATGTT',\n",
       " 'ATGTTG',\n",
       " 'TGTTGT',\n",
       " 'GTTGTA',\n",
       " 'TTGTAC',\n",
       " 'TGTACA']"
      ]
     },
     "execution_count": 11,
     "metadata": {},
     "output_type": "execute_result"
    }
   ],
   "source": [
    "k_mer_list"
   ]
  },
  {
   "cell_type": "code",
   "execution_count": 20,
   "id": "3b3c420a-58d4-41ae-aaed-5d0311c606d7",
   "metadata": {
    "tags": []
   },
   "outputs": [
    {
     "data": {
      "text/plain": [
       "False"
      ]
     },
     "execution_count": 20,
     "metadata": {},
     "output_type": "execute_result"
    }
   ],
   "source": [
    "type(9)==list"
   ]
  }
 ],
 "metadata": {
  "kernelspec": {
   "display_name": "Python 3 (ipykernel)",
   "language": "python",
   "name": "python3"
  },
  "language_info": {
   "codemirror_mode": {
    "name": "ipython",
    "version": 3
   },
   "file_extension": ".py",
   "mimetype": "text/x-python",
   "name": "python",
   "nbconvert_exporter": "python",
   "pygments_lexer": "ipython3",
   "version": "3.8.17"
  }
 },
 "nbformat": 4,
 "nbformat_minor": 5
}
