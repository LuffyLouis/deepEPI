{
 "cells": [
  {
   "cell_type": "code",
   "execution_count": 1,
   "id": "75ead776-ab98-4d46-9573-48fdeb09a6e6",
   "metadata": {
    "tags": []
   },
   "outputs": [],
   "source": [
    "import torch"
   ]
  },
  {
   "cell_type": "code",
   "execution_count": 2,
   "id": "c8928ff1-07b8-4e7a-b17f-13b15d724c47",
   "metadata": {
    "tags": []
   },
   "outputs": [
    {
     "data": {
      "text/plain": [
       "'2.0.1'"
      ]
     },
     "execution_count": 2,
     "metadata": {},
     "output_type": "execute_result"
    }
   ],
   "source": [
    "torch.__version__"
   ]
  },
  {
   "cell_type": "code",
   "execution_count": 3,
   "id": "cc62ba46-9d03-4063-af8b-bf82f6a940ff",
   "metadata": {},
   "outputs": [],
   "source": [
    "from modules.models.models import SimpleCNN, init_weights\n",
    "import torchsummary\n",
    "\n",
    "def count_parameters(model):\n",
    "    return sum(p.numel() for p in model.parameters() if p.requires_grad)"
   ]
  },
  {
   "cell_type": "code",
   "execution_count": 4,
   "id": "c3e62db0-7c59-42e5-a690-5bacd0595753",
   "metadata": {
    "tags": []
   },
   "outputs": [],
   "source": [
    "model = SimpleCNN(encode_method=\"dna2vec\",concat_reverse=False,\n",
    "                  init_method=\"xavier_normal\")"
   ]
  },
  {
   "cell_type": "code",
   "execution_count": 5,
   "id": "a9a7bb4e-473f-4840-8f61-caae2fc98b06",
   "metadata": {
    "tags": []
   },
   "outputs": [
    {
     "name": "stdout",
     "output_type": "stream",
     "text": [
      "----------------------------------------------------------------\n",
      "        Layer (type)               Output Shape         Param #\n",
      "================================================================\n",
      "            Conv1d-1            [64, 300, 2000]       1,200,300\n",
      "              ReLU-2            [64, 300, 2000]               0\n",
      "            Conv1d-3            [64, 300, 2000]       1,200,300\n",
      "              ReLU-4            [64, 300, 2000]               0\n",
      "         MaxPool1d-5             [64, 300, 100]               0\n",
      "              ReLU-6             [64, 300, 100]               0\n",
      "         MaxPool1d-7             [64, 300, 100]               0\n",
      "              ReLU-8             [64, 300, 100]               0\n",
      " CustomConcatLayer-9             [64, 300, 200]               0\n",
      "          Flatten-10                [64, 60000]               0\n",
      "           Linear-11                  [64, 800]      48,000,800\n",
      "             ReLU-12                  [64, 800]               0\n",
      "          Dropout-13                  [64, 800]               0\n",
      "           Linear-14                    [64, 2]           1,602\n",
      "          Softmax-15                    [64, 2]               0\n",
      "================================================================\n",
      "Total params: 50,403,002\n",
      "Trainable params: 50,403,002\n",
      "Non-trainable params: 0\n",
      "----------------------------------------------------------------\n",
      "Input size (MB): 97.66\n",
      "Forward/backward pass size (MB): 1290.24\n",
      "Params size (MB): 192.27\n",
      "Estimated Total Size (MB): 1580.16\n",
      "----------------------------------------------------------------\n",
      "parameters_count: 50403002\n"
     ]
    },
    {
     "name": "stderr",
     "output_type": "stream",
     "text": [
      "/home/luffy/miniconda3/envs/deepEPI/lib/python3.8/site-packages/torch/nn/modules/conv.py:309: UserWarning: Using padding='same' with even kernel lengths and odd dilation may require a zero-padded copy of the input be created (Triggered internally at /opt/conda/conda-bld/pytorch_1682343998658/work/aten/src/ATen/native/Convolution.cpp:1003.)\n",
      "  return F.conv1d(input, weight, bias, self.stride,\n",
      "/home/luffy/miniconda3/envs/deepEPI/lib/python3.8/site-packages/torch/nn/modules/container.py:217: UserWarning: Implicit dimension choice for softmax has been deprecated. Change the call to include dim=X as an argument.\n",
      "  input = module(input)\n"
     ]
    }
   ],
   "source": [
    "torchsummary.summary(model, (2000, 200),device=\"cpu\",batch_size=64)\n",
    "print('parameters_count:',count_parameters(model))"
   ]
  },
  {
   "cell_type": "code",
   "execution_count": 20,
   "id": "0e741373-ab87-4658-bf4b-02de74075200",
   "metadata": {
    "tags": []
   },
   "outputs": [],
   "source": [
    "# from thop import profile\n",
    "model = SimpleCNN(encode_method=\"dna2vec\",concat_reverse=False,\n",
    "                  init_method=\"xavier_normal\")"
   ]
  },
  {
   "cell_type": "code",
   "execution_count": 23,
   "id": "afad174c-e514-4df9-b144-20345b3b8618",
   "metadata": {
    "tags": []
   },
   "outputs": [
    {
     "name": "stdout",
     "output_type": "stream",
     "text": [
      "Warning: module CustomConcatLayer is treated as a zero-op.\n",
      "Warning: module Flatten is treated as a zero-op.\n",
      "Warning: module Dropout is treated as a zero-op.\n",
      "Warning: module Softmax is treated as a zero-op.\n",
      "Warning: module SimpleCNN is treated as a zero-op.\n",
      "SimpleCNN(\n",
      "  50.4 M, 100.000% Params, 4.85 GMac, 100.000% MACs, \n",
      "  (enhancer_conv1): Sequential(\n",
      "    1.2 M, 2.381% Params, 2.4 GMac, 49.492% MACs, \n",
      "    (0): Conv1d(1.2 M, 2.381% Params, 2.4 GMac, 49.480% MACs, 100, 300, kernel_size=(40,), stride=(1,), padding=same)\n",
      "    (1): ReLU(0, 0.000% Params, 600.0 KMac, 0.012% MACs, )\n",
      "  )\n",
      "  (enhancer_maxpool1): Sequential(\n",
      "    0, 0.000% Params, 630.0 KMac, 0.013% MACs, \n",
      "    (0): MaxPool1d(0, 0.000% Params, 600.0 KMac, 0.012% MACs, kernel_size=20, stride=20, padding=0, dilation=1, ceil_mode=False)\n",
      "    (1): ReLU(0, 0.000% Params, 30.0 KMac, 0.001% MACs, )\n",
      "  )\n",
      "  (promoter_conv1): Sequential(\n",
      "    1.2 M, 2.381% Params, 2.4 GMac, 49.492% MACs, \n",
      "    (0): Conv1d(1.2 M, 2.381% Params, 2.4 GMac, 49.480% MACs, 100, 300, kernel_size=(40,), stride=(1,), padding=same)\n",
      "    (1): ReLU(0, 0.000% Params, 600.0 KMac, 0.012% MACs, )\n",
      "  )\n",
      "  (promoter_maxpool1): Sequential(\n",
      "    0, 0.000% Params, 630.0 KMac, 0.013% MACs, \n",
      "    (0): MaxPool1d(0, 0.000% Params, 600.0 KMac, 0.012% MACs, kernel_size=20, stride=20, padding=0, dilation=1, ceil_mode=False)\n",
      "    (1): ReLU(0, 0.000% Params, 30.0 KMac, 0.001% MACs, )\n",
      "  )\n",
      "  (merged_layer): CustomConcatLayer(0, 0.000% Params, 0.0 Mac, 0.000% MACs, )\n",
      "  (flatten): Flatten(0, 0.000% Params, 0.0 Mac, 0.000% MACs, start_dim=1, end_dim=-1)\n",
      "  (linear1): Sequential(\n",
      "    48.0 M, 95.234% Params, 48.0 MMac, 0.989% MACs, \n",
      "    (0): Linear(48.0 M, 95.234% Params, 48.0 MMac, 0.989% MACs, in_features=60000, out_features=800, bias=True)\n",
      "    (1): ReLU(0, 0.000% Params, 800.0 Mac, 0.000% MACs, )\n",
      "  )\n",
      "  (dropout): Dropout(0, 0.000% Params, 0.0 Mac, 0.000% MACs, p=0.2, inplace=False)\n",
      "  (output_layer): Sequential(\n",
      "    1.6 k, 0.003% Params, 1.6 KMac, 0.000% MACs, \n",
      "    (0): Linear(1.6 k, 0.003% Params, 1.6 KMac, 0.000% MACs, in_features=800, out_features=2, bias=True)\n",
      "    (1): Softmax(0, 0.000% Params, 0.0 Mac, 0.000% MACs, dim=None)\n",
      "  )\n",
      ")\n"
     ]
    }
   ],
   "source": [
    "from ptflops import get_model_complexity_info\n",
    "import re\n",
    "\n",
    "with torch.cuda.device(0):\n",
    "  # net = models.densenet161()\n",
    "  macs, params = get_model_complexity_info(model, (2000, 200), as_strings=True,\n",
    "                                           print_per_layer_stat=True, verbose=True)\n",
    "flops = eval(re.findall(r'([\\d.]+)', macs)[0])*2 \n",
    "# Extract the unit \n",
    "flops_unit = re.findall(r'([A-Za-z]+)', macs)[0][0] "
   ]
  },
  {
   "cell_type": "code",
   "execution_count": 24,
   "id": "77d428cb-2b6c-4ac3-98bd-2fd09bb06522",
   "metadata": {},
   "outputs": [
    {
     "name": "stdout",
     "output_type": "stream",
     "text": [
      "Computational complexity: 4.85 GMac\n",
      "Computational complexity: 9.7 GFlops\n",
      "Number of parameters: 50.4 M  \n"
     ]
    }
   ],
   "source": [
    "print('Computational complexity: {:<8}'.format(macs)) \n",
    "print('Computational complexity: {} {}Flops'.format(flops, flops_unit)) \n",
    "print('Number of parameters: {:<8}'.format(params))"
   ]
  },
  {
   "cell_type": "code",
   "execution_count": null,
   "id": "12ef3b79-0c35-46a5-8e19-e9b76c0d50f7",
   "metadata": {},
   "outputs": [],
   "source": []
  }
 ],
 "metadata": {
  "kernelspec": {
   "display_name": "Python 3 (ipykernel)",
   "language": "python",
   "name": "python3"
  },
  "language_info": {
   "codemirror_mode": {
    "name": "ipython",
    "version": 3
   },
   "file_extension": ".py",
   "mimetype": "text/x-python",
   "name": "python",
   "nbconvert_exporter": "python",
   "pygments_lexer": "ipython3",
   "version": "3.8.17"
  }
 },
 "nbformat": 4,
 "nbformat_minor": 5
}
